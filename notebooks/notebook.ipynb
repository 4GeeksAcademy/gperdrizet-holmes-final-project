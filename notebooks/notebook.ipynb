{
 "cells": [
  {
   "cell_type": "markdown",
   "id": "871115ef",
   "metadata": {},
   "source": [
    "# Environment test notebook"
   ]
  },
  {
   "cell_type": "code",
   "execution_count": null,
   "id": "6f293720",
   "metadata": {},
   "outputs": [],
   "source": [
    "# Import python packages\n",
    "import numpy as np\n",
    "import pandas as pd\n",
    "import scipy as sp\n",
    "import sklearn as sk\n",
    "import seaborn as sns\n",
    "import matplotlib as plt\n",
    "\n",
    "# Check version numbers\n",
    "print(f'numpy: {np.version.version}')\n",
    "print(f'pandas: {pd.__version__}')\n",
    "print(f'scipy: {sp.__version__}')\n",
    "print(f'scikit-learn: {sk.__version__}')\n",
    "print(f'seaborn: {sns.__version__}')\n",
    "print(f'matplotlib: {plt.__version__}')"
   ]
  }
 ],
 "metadata": {
  "language_info": {
   "name": "python"
  }
 },
 "nbformat": 4,
 "nbformat_minor": 5
}
