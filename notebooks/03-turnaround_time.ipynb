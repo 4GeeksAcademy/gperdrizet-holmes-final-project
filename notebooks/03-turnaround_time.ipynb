{
 "cells": [
  {
   "cell_type": "markdown",
   "id": "8164e48f",
   "metadata": {},
   "source": [
    "# Sales\n",
    "\n",
    "## Notebook set-up"
   ]
  },
  {
   "cell_type": "code",
   "execution_count": 1,
   "id": "3f2e3bbd",
   "metadata": {},
   "outputs": [],
   "source": [
    "import os\n",
    "import pickle\n",
    "\n",
    "import pandas as pd\n",
    "\n",
    "import matplotlib.pyplot as plt\n",
    "from scipy.stats import randint, uniform, loguniform\n",
    "from sklearn.decomposition import PCA\n",
    "from sklearn.ensemble import HistGradientBoostingClassifier\n",
    "from sklearn.linear_model import LogisticRegression\n",
    "from sklearn.model_selection import RandomizedSearchCV, ShuffleSplit\n",
    "from sklearn.pipeline import Pipeline\n",
    "from sklearn.preprocessing import OneHotEncoder\n",
    "\n",
    "import helper_functions as funcs\n",
    "\n",
    "label = 'Turnaround_Time'"
   ]
  },
  {
   "cell_type": "markdown",
   "id": "60525341",
   "metadata": {},
   "source": [
    "## 1. Asset loading\n",
    "\n",
    "### 1.1. Data"
   ]
  },
  {
   "cell_type": "code",
   "execution_count": 2,
   "id": "aee4ede9",
   "metadata": {},
   "outputs": [],
   "source": [
    "with open('../data/processed/turnaround_time.pkl', 'rb') as input_file:\n",
    "    turnaround_data = pickle.load(input_file)\n",
    "\n",
    "train_df = turnaround_data['training']\n",
    "test_df = turnaround_data['testing']"
   ]
  },
  {
   "cell_type": "code",
   "execution_count": 3,
   "id": "53efd5ed",
   "metadata": {},
   "outputs": [
    {
     "data": {
      "text/html": [
       "<div>\n",
       "<style scoped>\n",
       "    .dataframe tbody tr th:only-of-type {\n",
       "        vertical-align: middle;\n",
       "    }\n",
       "\n",
       "    .dataframe tbody tr th {\n",
       "        vertical-align: top;\n",
       "    }\n",
       "\n",
       "    .dataframe thead th {\n",
       "        text-align: right;\n",
       "    }\n",
       "</style>\n",
       "<table border=\"1\" class=\"dataframe\">\n",
       "  <thead>\n",
       "    <tr style=\"text-align: right;\">\n",
       "      <th></th>\n",
       "      <th>Ship_Mode</th>\n",
       "      <th>Segment</th>\n",
       "      <th>City</th>\n",
       "      <th>State</th>\n",
       "      <th>Sub_Category</th>\n",
       "      <th>Order_Year</th>\n",
       "      <th>Order_Month</th>\n",
       "      <th>Order_Day</th>\n",
       "      <th>Turnaround_Time</th>\n",
       "    </tr>\n",
       "  </thead>\n",
       "  <tbody>\n",
       "    <tr>\n",
       "      <th>2434</th>\n",
       "      <td>First Class</td>\n",
       "      <td>Corporate</td>\n",
       "      <td>Springfield</td>\n",
       "      <td>Virginia</td>\n",
       "      <td>Envelopes</td>\n",
       "      <td>2016</td>\n",
       "      <td>11</td>\n",
       "      <td>0</td>\n",
       "      <td>3</td>\n",
       "    </tr>\n",
       "    <tr>\n",
       "      <th>9746</th>\n",
       "      <td>Same Day</td>\n",
       "      <td>Consumer</td>\n",
       "      <td>Los Angeles</td>\n",
       "      <td>California</td>\n",
       "      <td>Tables</td>\n",
       "      <td>2018</td>\n",
       "      <td>11</td>\n",
       "      <td>5</td>\n",
       "      <td>0</td>\n",
       "    </tr>\n",
       "    <tr>\n",
       "      <th>2289</th>\n",
       "      <td>First Class</td>\n",
       "      <td>Corporate</td>\n",
       "      <td>Seattle</td>\n",
       "      <td>Washington</td>\n",
       "      <td>Tables</td>\n",
       "      <td>2018</td>\n",
       "      <td>1</td>\n",
       "      <td>0</td>\n",
       "      <td>3</td>\n",
       "    </tr>\n",
       "    <tr>\n",
       "      <th>7070</th>\n",
       "      <td>Second Class</td>\n",
       "      <td>Home Office</td>\n",
       "      <td>Chicago</td>\n",
       "      <td>Illinois</td>\n",
       "      <td>Paper</td>\n",
       "      <td>2017</td>\n",
       "      <td>9</td>\n",
       "      <td>1</td>\n",
       "      <td>5</td>\n",
       "    </tr>\n",
       "    <tr>\n",
       "      <th>7989</th>\n",
       "      <td>Standard Class</td>\n",
       "      <td>Home Office</td>\n",
       "      <td>Sheboygan</td>\n",
       "      <td>Wisconsin</td>\n",
       "      <td>Storage</td>\n",
       "      <td>2017</td>\n",
       "      <td>8</td>\n",
       "      <td>2</td>\n",
       "      <td>6</td>\n",
       "    </tr>\n",
       "  </tbody>\n",
       "</table>\n",
       "</div>"
      ],
      "text/plain": [
       "           Ship_Mode      Segment         City       State Sub_Category  \\\n",
       "2434     First Class    Corporate  Springfield    Virginia    Envelopes   \n",
       "9746        Same Day     Consumer  Los Angeles  California       Tables   \n",
       "2289     First Class    Corporate      Seattle  Washington       Tables   \n",
       "7070    Second Class  Home Office      Chicago    Illinois        Paper   \n",
       "7989  Standard Class  Home Office    Sheboygan   Wisconsin      Storage   \n",
       "\n",
       "      Order_Year  Order_Month  Order_Day  Turnaround_Time  \n",
       "2434        2016           11          0                3  \n",
       "9746        2018           11          5                0  \n",
       "2289        2018            1          0                3  \n",
       "7070        2017            9          1                5  \n",
       "7989        2017            8          2                6  "
      ]
     },
     "execution_count": 3,
     "metadata": {},
     "output_type": "execute_result"
    }
   ],
   "source": [
    "train_df.head()"
   ]
  },
  {
   "cell_type": "code",
   "execution_count": 4,
   "id": "198efd24",
   "metadata": {},
   "outputs": [
    {
     "name": "stdout",
     "output_type": "stream",
     "text": [
      "<class 'pandas.core.frame.DataFrame'>\n",
      "Index: 6536 entries, 2434 to 4359\n",
      "Data columns (total 9 columns):\n",
      " #   Column           Non-Null Count  Dtype \n",
      "---  ------           --------------  ----- \n",
      " 0   Ship_Mode        6536 non-null   object\n",
      " 1   Segment          6536 non-null   object\n",
      " 2   City             6536 non-null   object\n",
      " 3   State            6536 non-null   object\n",
      " 4   Sub_Category     6536 non-null   object\n",
      " 5   Order_Year       6536 non-null   int32 \n",
      " 6   Order_Month      6536 non-null   int32 \n",
      " 7   Order_Day        6536 non-null   int32 \n",
      " 8   Turnaround_Time  6536 non-null   int64 \n",
      "dtypes: int32(3), int64(1), object(5)\n",
      "memory usage: 434.0+ KB\n"
     ]
    }
   ],
   "source": [
    "train_df.info()"
   ]
  },
  {
   "cell_type": "markdown",
   "id": "1ad74c4f",
   "metadata": {},
   "source": [
    "## 2. Data preparation\n",
    "\n",
    "### 2.1. One-hot encoding"
   ]
  },
  {
   "cell_type": "code",
   "execution_count": 5,
   "id": "82d60fff",
   "metadata": {},
   "outputs": [
    {
     "name": "stdout",
     "output_type": "stream",
     "text": [
      "<class 'pandas.core.frame.DataFrame'>\n",
      "RangeIndex: 6536 entries, 0 to 6535\n",
      "Columns: 570 entries, Segment_Consumer to Turnaround_Time\n",
      "dtypes: float64(566), int32(3), int64(1)\n",
      "memory usage: 28.3 MB\n"
     ]
    }
   ],
   "source": [
    "features = ['Segment', 'City', 'State', 'Sub_Category', 'Ship_Mode']\n",
    "\n",
    "onehot_encoder = OneHotEncoder(sparse_output=False, handle_unknown='infrequent_if_exist')\n",
    "\n",
    "encoded_training_features = onehot_encoder.fit_transform(train_df[features])\n",
    "encoded_testing_features = onehot_encoder.transform(test_df[features])\n",
    "\n",
    "encoded_training_df = pd.DataFrame(\n",
    "    encoded_training_features,\n",
    "    columns=onehot_encoder.get_feature_names_out()\n",
    ")\n",
    "\n",
    "encoded_testing_df = pd.DataFrame(\n",
    "    encoded_testing_features,\n",
    "    columns=onehot_encoder.get_feature_names_out()\n",
    ")\n",
    "\n",
    "train_df.drop(columns=features, inplace=True)\n",
    "test_df.drop(columns=features, inplace=True)\n",
    "\n",
    "train_df = pd.concat([encoded_training_df.reset_index(drop=True), train_df.reset_index(drop=True)], axis=1)\n",
    "test_df = pd.concat([encoded_testing_df.reset_index(drop=True), test_df.reset_index(drop=True)], axis=1)\n",
    "\n",
    "train_df.info()"
   ]
  },
  {
   "cell_type": "markdown",
   "id": "99660bb3",
   "metadata": {},
   "source": [
    "### 2.3. Time encoding"
   ]
  },
  {
   "cell_type": "code",
   "execution_count": 6,
   "id": "ac4ef66d",
   "metadata": {},
   "outputs": [],
   "source": [
    "month_sin_transformer = funcs.sin_transform(period=12)\n",
    "month_cos_transformer = funcs.cos_transform(period=12)\n",
    "\n",
    "train_df['Order_Month_Sin'] = month_sin_transformer.fit_transform(train_df['Order_Month'])\n",
    "test_df['Order_Month_Sin'] = month_sin_transformer.transform(test_df['Order_Month'])\n",
    "\n",
    "train_df['Order_Month_Cos'] = month_cos_transformer.fit_transform(train_df['Order_Month'])\n",
    "test_df['Order_Month_Cos'] = month_cos_transformer.transform(test_df['Order_Month'])\n"
   ]
  },
  {
   "cell_type": "code",
   "execution_count": 7,
   "id": "624eb422",
   "metadata": {},
   "outputs": [],
   "source": [
    "day_sin_transformer = funcs.sin_transform(period=7)\n",
    "day_cos_transformer = funcs.cos_transform(period=7)\n",
    "\n",
    "train_df['Order_Day_Sin'] = day_sin_transformer.fit_transform(train_df['Order_Day'])\n",
    "test_df['Order_Day_Sin'] = month_sin_transformer.transform(test_df['Order_Day'])\n",
    "\n",
    "train_df['Order_Day_Cos'] = day_cos_transformer.fit_transform(train_df['Order_Day'])\n",
    "test_df['Order_Day_Cos'] = day_cos_transformer.transform(test_df['Order_Day'])"
   ]
  },
  {
   "cell_type": "code",
   "execution_count": 8,
   "id": "14fdae09",
   "metadata": {},
   "outputs": [
    {
     "name": "stdout",
     "output_type": "stream",
     "text": [
      "<class 'pandas.core.frame.DataFrame'>\n",
      "RangeIndex: 6536 entries, 0 to 6535\n",
      "Columns: 572 entries, Segment_Consumer to Order_Day_Cos\n",
      "dtypes: float64(570), int32(1), int64(1)\n",
      "memory usage: 28.5 MB\n"
     ]
    }
   ],
   "source": [
    "train_df.drop(['Order_Month', 'Order_Day'], axis=1, inplace=True)\n",
    "test_df.drop(['Order_Month', 'Order_Day'], axis=1, inplace=True)\n",
    "\n",
    "train_df.info()"
   ]
  },
  {
   "cell_type": "markdown",
   "id": "6bf774dd",
   "metadata": {},
   "source": [
    "## 3. Logistic regression"
   ]
  },
  {
   "cell_type": "code",
   "execution_count": null,
   "id": "e14c8dca",
   "metadata": {},
   "outputs": [],
   "source": [
    "linear_model = funcs.train_evaluate_classification(\n",
    "    model=LogisticRegression(class_weight='balanced', max_iter=1000),\n",
    "    train_df=train_df,\n",
    "    test_df=test_df,\n",
    "    label=label,\n",
    "    plot_title='Logistic regression test set performance',\n",
    ")"
   ]
  },
  {
   "cell_type": "markdown",
   "id": "0d0bbb36",
   "metadata": {},
   "source": [
    "## 4. Feature importance"
   ]
  },
  {
   "cell_type": "code",
   "execution_count": null,
   "id": "8124d9ff",
   "metadata": {},
   "outputs": [],
   "source": [
    "importance = pd.DataFrame({\n",
    "    'Feature': train_df.drop(label, axis=1).columns,\n",
    "    'Importance': linear_model.coef_\n",
    "})\n",
    "\n",
    "importance = importance[(importance['Importance'] > 0.1) | (importance['Importance'] < -0.1)]\n",
    "\n",
    "importance.sort_values(by='Importance', inplace=True)\n",
    "\n",
    "fig, ax = plt.subplots(1,1, figsize=(12,4))\n",
    "\n",
    "ax.set_title('Feature Importance')\n",
    "ax.bar(importance['Feature'], importance['Importance'], color='black')\n",
    "ax.tick_params('x', labelrotation=90)"
   ]
  },
  {
   "cell_type": "markdown",
   "id": "0764719e",
   "metadata": {},
   "source": [
    "## 5. Gradient boosting"
   ]
  },
  {
   "cell_type": "code",
   "execution_count": null,
   "id": "375de211",
   "metadata": {},
   "outputs": [],
   "source": [
    "gbt_model = funcs.train_evaluate_classification(\n",
    "    model=HistGradientBoostingClassifier(),\n",
    "    train_df=train_df,\n",
    "    test_df=test_df,\n",
    "    label=label,\n",
    "    plot_title='Gradient boosting test set performance'\n",
    ")"
   ]
  },
  {
   "cell_type": "markdown",
   "id": "d65fadb6",
   "metadata": {},
   "source": [
    "## 6. PCA + Gradient boosting"
   ]
  },
  {
   "cell_type": "code",
   "execution_count": null,
   "id": "c808c48e",
   "metadata": {},
   "outputs": [],
   "source": [
    "# Samples\n",
    "N_ITER = 50\n",
    "\n",
    "# Cross validation strategy\n",
    "CV_FOLDS = 10\n",
    "CV_SPLIT = 0.5\n",
    "\n",
    "# CPU utilization\n",
    "N_JOBS = 10\n",
    "\n",
    "CROSS_VAL = ShuffleSplit(\n",
    "    n_splits=CV_FOLDS,\n",
    "    test_size=CV_SPLIT,\n",
    "    random_state=315\n",
    ")"
   ]
  },
  {
   "cell_type": "code",
   "execution_count": null,
   "id": "4b6fd870",
   "metadata": {},
   "outputs": [],
   "source": [
    "# Initialize pipeline components\n",
    "pca = PCA()\n",
    "regressor = HistGradientBoostingClassifier()\n",
    "\n",
    "pipeline = Pipeline(steps=[('PCA', pca), ('regressor', regressor)])\n",
    "\n",
    "# Define hyperparameter search space for gradient boosting optimization\n",
    "hyperparameters = {\n",
    "    'PCA__n_components': list(range(1, len(train_df.columns))),\n",
    "    'regressor__learning_rate': loguniform(10**-5, 1.0),\n",
    "    'regressor__max_iter': randint(2, 200),\n",
    "    'regressor__max_leaf_nodes':randint(2, 1000),\n",
    "    'regressor__max_depth':randint(1, 20),\n",
    "    'regressor__min_samples_leaf': randint(1, 20),\n",
    "    'regressor__l2_regularization': loguniform(10**-5, 1.0),\n",
    "    'regressor__max_features':uniform(loc=0.1, scale=0.9),\n",
    "    'regressor__max_bins': randint(10, 255),\n",
    "    'regressor__interaction_cst': ['pairwise', 'no_interactions'],\n",
    "}\n",
    "\n",
    "# Perform randomized search over hyperparameters\n",
    "search = RandomizedSearchCV(\n",
    "    pipeline,\n",
    "    hyperparameters,\n",
    "    return_train_score=True, # Return training scores for analysis\n",
    "    cv=CROSS_VAL,            # Use stratified shuffle split for cross-validation\n",
    "    n_jobs=N_JOBS,           # Set CPU core count\n",
    "    n_iter=N_ITER,           # Number of parameter combinations to try\n",
    "    random_state=315         # Ensure reproducible results\n",
    ")\n",
    "\n",
    "# Fit the search and extract best model and parameters\n",
    "search_results = search.fit(train_df.drop(label, axis=1), train_df[label])\n",
    "best_model = search_results.best_estimator_\n",
    "winning_hyperparameters = search_results.best_params_\n",
    "\n",
    "# Display the best hyperparameters found\n",
    "print('Best hyperparameters:\\n')\n",
    "\n",
    "for key, value in search_results.best_params_.items():\n",
    "    print(f' {key}: {value}')\n",
    "\n",
    "print()\n",
    "\n",
    "if N_JOBS == -1:\n",
    "    print(f'Run time ({os.cpu_count()} CPUs):\\n')\n",
    "\n",
    "else:\n",
    "    print(print(f'Run time ({N_JOBS} CPUs):\\n'))"
   ]
  },
  {
   "cell_type": "code",
   "execution_count": null,
   "id": "a47b4b21",
   "metadata": {},
   "outputs": [],
   "source": [
    "funcs.plot_cross_validation(search_results)"
   ]
  },
  {
   "cell_type": "code",
   "execution_count": null,
   "id": "e75d86b7",
   "metadata": {},
   "outputs": [],
   "source": [
    "best_gbt_model = funcs.train_evaluate_classification(\n",
    "    model=best_model,\n",
    "    train_df=train_df,\n",
    "    test_df=test_df,\n",
    "    label=label,\n",
    "    plot_title='Optimized gradient boosting test set performance'\n",
    ")"
   ]
  },
  {
   "cell_type": "markdown",
   "id": "ce5ac897",
   "metadata": {},
   "source": [
    "## 7. Save"
   ]
  },
  {
   "cell_type": "code",
   "execution_count": null,
   "id": "7867cb23",
   "metadata": {},
   "outputs": [],
   "source": [
    "time_transformers = {\n",
    "    'month_sin': month_sin_transformer,\n",
    "    'month_cos': month_cos_transformer\n",
    "}\n",
    "\n",
    "with open('../models/turnaround_time_transformers.pkl', 'wb') as output_file:\n",
    "    pickle.dump(time_transformers, output_file)\n",
    "\n",
    "with open('../models/turnaround_onehot_encoder.pkl', 'wb') as output_file:\n",
    "    pickle.dump(onehot_encoder, output_file)\n",
    "\n",
    "with open('../models/turnaround_gbt.pkl', 'wb') as output_file:\n",
    "    pickle.dump(best_model, output_file)"
   ]
  }
 ],
 "metadata": {
  "kernelspec": {
   "display_name": "Python 3",
   "language": "python",
   "name": "python3"
  },
  "language_info": {
   "codemirror_mode": {
    "name": "ipython",
    "version": 3
   },
   "file_extension": ".py",
   "mimetype": "text/x-python",
   "name": "python",
   "nbconvert_exporter": "python",
   "pygments_lexer": "ipython3",
   "version": "3.11.4"
  }
 },
 "nbformat": 4,
 "nbformat_minor": 5
}
