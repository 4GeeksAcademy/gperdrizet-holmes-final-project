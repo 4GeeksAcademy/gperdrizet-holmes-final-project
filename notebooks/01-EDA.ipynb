{
 "cells": [
  {
   "cell_type": "markdown",
   "id": "871115ef",
   "metadata": {},
   "source": [
    "# EDA"
   ]
  },
  {
   "cell_type": "code",
   "execution_count": 1,
   "id": "6f293720",
   "metadata": {},
   "outputs": [],
   "source": [
    "# Import python packages\n",
    "from pathlib import Path\n",
    "import zipfile\n",
    "import kaggle\n",
    "import pandas as pd\n",
    "kaggle.api.authenticate()"
   ]
  },
  {
   "cell_type": "markdown",
   "id": "61faaefe",
   "metadata": {},
   "source": [
    "## 1. Data acquisition\n",
    "\n",
    "### 1.2. Download"
   ]
  },
  {
   "cell_type": "code",
   "execution_count": 2,
   "id": "1a1ce60e",
   "metadata": {},
   "outputs": [
    {
     "name": "stdout",
     "output_type": "stream",
     "text": [
      "Dataset URL: https://www.kaggle.com/datasets/bhanupratapbiswas/superstore-sales\n"
     ]
    }
   ],
   "source": [
    "# Create target directory\n",
    "Path('../data/raw').mkdir(parents=True, exist_ok=True)\n",
    "\n",
    "# Download latest version\n",
    "kaggle.api.dataset_download_files(\n",
    "    'bhanupratapbiswas/superstore-sales',\n",
    "    path='../data/raw/'\n",
    ")"
   ]
  },
  {
   "cell_type": "markdown",
   "id": "f73e2bdd",
   "metadata": {},
   "source": [
    "### 1.2. Extract"
   ]
  },
  {
   "cell_type": "code",
   "execution_count": 3,
   "id": "5990ffb8",
   "metadata": {},
   "outputs": [],
   "source": [
    "with zipfile.ZipFile('../data/raw/superstore-sales.zip', mode='r') as archive:\n",
    "    archive.extract('superstore_final_dataset (1).csv', '../data/raw')"
   ]
  },
  {
   "cell_type": "markdown",
   "id": "89319591",
   "metadata": {},
   "source": [
    "### 1.3. Inspect"
   ]
  },
  {
   "cell_type": "code",
   "execution_count": 4,
   "id": "1e2c3b16",
   "metadata": {},
   "outputs": [
    {
     "data": {
      "text/html": [
       "<div>\n",
       "<style scoped>\n",
       "    .dataframe tbody tr th:only-of-type {\n",
       "        vertical-align: middle;\n",
       "    }\n",
       "\n",
       "    .dataframe tbody tr th {\n",
       "        vertical-align: top;\n",
       "    }\n",
       "\n",
       "    .dataframe thead th {\n",
       "        text-align: right;\n",
       "    }\n",
       "</style>\n",
       "<table border=\"1\" class=\"dataframe\">\n",
       "  <thead>\n",
       "    <tr style=\"text-align: right;\">\n",
       "      <th></th>\n",
       "      <th>Row_ID</th>\n",
       "      <th>Order_ID</th>\n",
       "      <th>Order_Date</th>\n",
       "      <th>Ship_Date</th>\n",
       "      <th>Ship_Mode</th>\n",
       "      <th>Customer_ID</th>\n",
       "      <th>Customer_Name</th>\n",
       "      <th>Segment</th>\n",
       "      <th>Country</th>\n",
       "      <th>City</th>\n",
       "      <th>State</th>\n",
       "      <th>Postal_Code</th>\n",
       "      <th>Region</th>\n",
       "      <th>Product_ID</th>\n",
       "      <th>Category</th>\n",
       "      <th>Sub_Category</th>\n",
       "      <th>Product_Name</th>\n",
       "      <th>Sales</th>\n",
       "    </tr>\n",
       "  </thead>\n",
       "  <tbody>\n",
       "    <tr>\n",
       "      <th>0</th>\n",
       "      <td>1</td>\n",
       "      <td>CA-2017-152156</td>\n",
       "      <td>8/11/2017</td>\n",
       "      <td>11/11/2017</td>\n",
       "      <td>Second Class</td>\n",
       "      <td>CG-12520</td>\n",
       "      <td>Claire Gute</td>\n",
       "      <td>Consumer</td>\n",
       "      <td>United States</td>\n",
       "      <td>Henderson</td>\n",
       "      <td>Kentucky</td>\n",
       "      <td>42420.0</td>\n",
       "      <td>South</td>\n",
       "      <td>FUR-BO-10001798</td>\n",
       "      <td>Furniture</td>\n",
       "      <td>Bookcases</td>\n",
       "      <td>Bush Somerset Collection Bookcase</td>\n",
       "      <td>261.9600</td>\n",
       "    </tr>\n",
       "    <tr>\n",
       "      <th>1</th>\n",
       "      <td>2</td>\n",
       "      <td>CA-2017-152156</td>\n",
       "      <td>8/11/2017</td>\n",
       "      <td>11/11/2017</td>\n",
       "      <td>Second Class</td>\n",
       "      <td>CG-12520</td>\n",
       "      <td>Claire Gute</td>\n",
       "      <td>Consumer</td>\n",
       "      <td>United States</td>\n",
       "      <td>Henderson</td>\n",
       "      <td>Kentucky</td>\n",
       "      <td>42420.0</td>\n",
       "      <td>South</td>\n",
       "      <td>FUR-CH-10000454</td>\n",
       "      <td>Furniture</td>\n",
       "      <td>Chairs</td>\n",
       "      <td>Hon Deluxe Fabric Upholstered Stacking Chairs,...</td>\n",
       "      <td>731.9400</td>\n",
       "    </tr>\n",
       "    <tr>\n",
       "      <th>2</th>\n",
       "      <td>3</td>\n",
       "      <td>CA-2017-138688</td>\n",
       "      <td>12/6/2017</td>\n",
       "      <td>16/06/2017</td>\n",
       "      <td>Second Class</td>\n",
       "      <td>DV-13045</td>\n",
       "      <td>Darrin Van Huff</td>\n",
       "      <td>Corporate</td>\n",
       "      <td>United States</td>\n",
       "      <td>Los Angeles</td>\n",
       "      <td>California</td>\n",
       "      <td>90036.0</td>\n",
       "      <td>West</td>\n",
       "      <td>OFF-LA-10000240</td>\n",
       "      <td>Office Supplies</td>\n",
       "      <td>Labels</td>\n",
       "      <td>Self-Adhesive Address Labels for Typewriters b...</td>\n",
       "      <td>14.6200</td>\n",
       "    </tr>\n",
       "    <tr>\n",
       "      <th>3</th>\n",
       "      <td>4</td>\n",
       "      <td>US-2016-108966</td>\n",
       "      <td>11/10/2016</td>\n",
       "      <td>18/10/2016</td>\n",
       "      <td>Standard Class</td>\n",
       "      <td>SO-20335</td>\n",
       "      <td>Sean O Donnel</td>\n",
       "      <td>Consumer</td>\n",
       "      <td>United States</td>\n",
       "      <td>Fort Lauderdale</td>\n",
       "      <td>Florida</td>\n",
       "      <td>33311.0</td>\n",
       "      <td>South</td>\n",
       "      <td>FUR-TA-10000577</td>\n",
       "      <td>Furniture</td>\n",
       "      <td>Tables</td>\n",
       "      <td>Bretford CR4500 Series Slim Rectangular Table</td>\n",
       "      <td>957.5775</td>\n",
       "    </tr>\n",
       "    <tr>\n",
       "      <th>4</th>\n",
       "      <td>5</td>\n",
       "      <td>US-2016-108966</td>\n",
       "      <td>11/10/2016</td>\n",
       "      <td>18/10/2016</td>\n",
       "      <td>Standard Class</td>\n",
       "      <td>SO-20335</td>\n",
       "      <td>Sean O Donnel</td>\n",
       "      <td>Consumer</td>\n",
       "      <td>United States</td>\n",
       "      <td>Fort Lauderdale</td>\n",
       "      <td>Florida</td>\n",
       "      <td>33311.0</td>\n",
       "      <td>South</td>\n",
       "      <td>OFF-ST-10000760</td>\n",
       "      <td>Office Supplies</td>\n",
       "      <td>Storage</td>\n",
       "      <td>Eldon Fold N Roll Cart System</td>\n",
       "      <td>22.3680</td>\n",
       "    </tr>\n",
       "  </tbody>\n",
       "</table>\n",
       "</div>"
      ],
      "text/plain": [
       "   Row_ID        Order_ID  Order_Date   Ship_Date       Ship_Mode Customer_ID  \\\n",
       "0       1  CA-2017-152156   8/11/2017  11/11/2017    Second Class    CG-12520   \n",
       "1       2  CA-2017-152156   8/11/2017  11/11/2017    Second Class    CG-12520   \n",
       "2       3  CA-2017-138688   12/6/2017  16/06/2017    Second Class    DV-13045   \n",
       "3       4  US-2016-108966  11/10/2016  18/10/2016  Standard Class    SO-20335   \n",
       "4       5  US-2016-108966  11/10/2016  18/10/2016  Standard Class    SO-20335   \n",
       "\n",
       "     Customer_Name    Segment        Country             City       State  \\\n",
       "0      Claire Gute   Consumer  United States        Henderson    Kentucky   \n",
       "1      Claire Gute   Consumer  United States        Henderson    Kentucky   \n",
       "2  Darrin Van Huff  Corporate  United States      Los Angeles  California   \n",
       "3    Sean O Donnel   Consumer  United States  Fort Lauderdale     Florida   \n",
       "4    Sean O Donnel   Consumer  United States  Fort Lauderdale     Florida   \n",
       "\n",
       "   Postal_Code Region       Product_ID         Category Sub_Category  \\\n",
       "0      42420.0  South  FUR-BO-10001798        Furniture    Bookcases   \n",
       "1      42420.0  South  FUR-CH-10000454        Furniture       Chairs   \n",
       "2      90036.0   West  OFF-LA-10000240  Office Supplies       Labels   \n",
       "3      33311.0  South  FUR-TA-10000577        Furniture       Tables   \n",
       "4      33311.0  South  OFF-ST-10000760  Office Supplies      Storage   \n",
       "\n",
       "                                        Product_Name     Sales  \n",
       "0                  Bush Somerset Collection Bookcase  261.9600  \n",
       "1  Hon Deluxe Fabric Upholstered Stacking Chairs,...  731.9400  \n",
       "2  Self-Adhesive Address Labels for Typewriters b...   14.6200  \n",
       "3      Bretford CR4500 Series Slim Rectangular Table  957.5775  \n",
       "4                      Eldon Fold N Roll Cart System   22.3680  "
      ]
     },
     "execution_count": 4,
     "metadata": {},
     "output_type": "execute_result"
    }
   ],
   "source": [
    "data_df = pd.read_csv('../data/raw/superstore_final_dataset (1).csv', encoding='unicode_escape')\n",
    "data_df.head()"
   ]
  },
  {
   "cell_type": "code",
   "execution_count": 5,
   "id": "5d031b2f",
   "metadata": {},
   "outputs": [
    {
     "name": "stdout",
     "output_type": "stream",
     "text": [
      "<class 'pandas.core.frame.DataFrame'>\n",
      "RangeIndex: 9800 entries, 0 to 9799\n",
      "Data columns (total 18 columns):\n",
      " #   Column         Non-Null Count  Dtype  \n",
      "---  ------         --------------  -----  \n",
      " 0   Row_ID         9800 non-null   int64  \n",
      " 1   Order_ID       9800 non-null   object \n",
      " 2   Order_Date     9800 non-null   object \n",
      " 3   Ship_Date      9800 non-null   object \n",
      " 4   Ship_Mode      9800 non-null   object \n",
      " 5   Customer_ID    9800 non-null   object \n",
      " 6   Customer_Name  9800 non-null   object \n",
      " 7   Segment        9800 non-null   object \n",
      " 8   Country        9800 non-null   object \n",
      " 9   City           9800 non-null   object \n",
      " 10  State          9800 non-null   object \n",
      " 11  Postal_Code    9789 non-null   float64\n",
      " 12  Region         9800 non-null   object \n",
      " 13  Product_ID     9800 non-null   object \n",
      " 14  Category       9800 non-null   object \n",
      " 15  Sub_Category   9800 non-null   object \n",
      " 16  Product_Name   9800 non-null   object \n",
      " 17  Sales          9800 non-null   float64\n",
      "dtypes: float64(2), int64(1), object(15)\n",
      "memory usage: 1.3+ MB\n"
     ]
    }
   ],
   "source": [
    "data_df.info()"
   ]
  },
  {
   "cell_type": "markdown",
   "id": "f87d4767",
   "metadata": {},
   "source": [
    "## 2. Feature selection"
   ]
  },
  {
   "cell_type": "code",
   "execution_count": 6,
   "id": "d6ded27c",
   "metadata": {},
   "outputs": [],
   "source": [
    "data_df.drop(columns=['Row_ID'], inplace=True)"
   ]
  },
  {
   "cell_type": "markdown",
   "id": "ef3252e0",
   "metadata": {},
   "source": [
    "## 3. Factor levels"
   ]
  },
  {
   "cell_type": "code",
   "execution_count": 7,
   "id": "1004de22",
   "metadata": {},
   "outputs": [
    {
     "data": {
      "text/plain": [
       "Order_ID         4922\n",
       "Order_Date       1230\n",
       "Ship_Date        1326\n",
       "Ship_Mode           4\n",
       "Customer_ID       793\n",
       "Customer_Name     793\n",
       "Segment             3\n",
       "Country             1\n",
       "City              529\n",
       "State              49\n",
       "Postal_Code       626\n",
       "Region              4\n",
       "Product_ID       1861\n",
       "Category            3\n",
       "Sub_Category       17\n",
       "Product_Name     1849\n",
       "dtype: int64"
      ]
     },
     "execution_count": 7,
     "metadata": {},
     "output_type": "execute_result"
    }
   ],
   "source": [
    "categorical_features = ['Order_ID', 'Order_Date', 'Ship_Date','Ship_Mode','Customer_ID',\n",
    "                        'Customer_Name', 'Segment', 'Country', 'City', 'State',\n",
    "                        'Postal_Code', 'Region', 'Product_ID', 'Category', 'Sub_Category',\n",
    "                        'Product_Name']\n",
    "\n",
    "data_df[categorical_features].nunique()"
   ]
  },
  {
   "cell_type": "code",
   "execution_count": 8,
   "id": "5537d101",
   "metadata": {},
   "outputs": [
    {
     "data": {
      "text/plain": [
       "Order_ID        4922\n",
       "Order_Date      1230\n",
       "Ship_Date       1326\n",
       "Ship_Mode          4\n",
       "Customer_ID      793\n",
       "Segment            3\n",
       "Country            1\n",
       "City             529\n",
       "State             49\n",
       "Postal_Code      626\n",
       "Region             4\n",
       "Product_ID      1861\n",
       "Category           3\n",
       "Sub_Category      17\n",
       "Product_Name    1849\n",
       "dtype: int64"
      ]
     },
     "execution_count": 8,
     "metadata": {},
     "output_type": "execute_result"
    }
   ],
   "source": [
    "# Drop customer name - it's redundant to customer ID\n",
    "data_df.drop(columns='Customer_Name', inplace=True)\n",
    "categorical_features.remove('Customer_Name')\n",
    "data_df[categorical_features].nunique()\n"
   ]
  },
  {
   "cell_type": "code",
   "execution_count": 9,
   "id": "14fa63c4",
   "metadata": {},
   "outputs": [
    {
     "data": {
      "text/plain": [
       "Order_ID        4922\n",
       "Order_Date      1230\n",
       "Ship_Date       1326\n",
       "Ship_Mode          4\n",
       "Customer_ID      793\n",
       "Segment            3\n",
       "City             529\n",
       "State             49\n",
       "Postal_Code      626\n",
       "Region             4\n",
       "Product_ID      1861\n",
       "Category           3\n",
       "Sub_Category      17\n",
       "Product_Name    1849\n",
       "dtype: int64"
      ]
     },
     "execution_count": 9,
     "metadata": {},
     "output_type": "execute_result"
    }
   ],
   "source": [
    "# Drop country - it's constant\n",
    "data_df.drop(columns='Country', inplace=True)\n",
    "categorical_features.remove('Country')\n",
    "data_df[categorical_features].nunique()"
   ]
  },
  {
   "cell_type": "markdown",
   "id": "825093e6",
   "metadata": {},
   "source": [
    "## 3. Encoding\n",
    "\n",
    "**One-hot encoding** (low cardinality)\n",
    "1. `Ship_Mode`\n",
    "2. `Segment`\n",
    "3. `Region`\n",
    "4. `Category`\n",
    "\n",
    "**Ordinal encoding** (high cardinality)\n",
    "1. `Order_ID`\n",
    "2. `Order_Date`\n",
    "3. `Ship_Date`\n",
    "4. `Customer_ID`\n",
    "5. `City`\n",
    "6. `State`\n",
    "7. `Postal_Code`\n",
    "8. `Product_ID`\n",
    "9. `Sub_Category`\n",
    "10. `Product_Name`"
   ]
  }
 ],
 "metadata": {
  "kernelspec": {
   "display_name": "Python 3",
   "language": "python",
   "name": "python3"
  },
  "language_info": {
   "codemirror_mode": {
    "name": "ipython",
    "version": 3
   },
   "file_extension": ".py",
   "mimetype": "text/x-python",
   "name": "python",
   "nbconvert_exporter": "python",
   "pygments_lexer": "ipython3",
   "version": "3.11.4"
  }
 },
 "nbformat": 4,
 "nbformat_minor": 5
}
